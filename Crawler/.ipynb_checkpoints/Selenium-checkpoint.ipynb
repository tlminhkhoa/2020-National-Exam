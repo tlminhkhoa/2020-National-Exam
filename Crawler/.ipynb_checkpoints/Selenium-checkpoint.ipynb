{
 "cells": [
  {
   "cell_type": "code",
   "execution_count": null,
   "metadata": {
    "id": "Z4GefqZxZ9As"
   },
   "outputs": [],
   "source": [
    "from google.colab import drive\n",
    "drive.mount('/content/drive')"
   ]
  },
  {
   "cell_type": "code",
   "execution_count": null,
   "metadata": {
    "id": "o-1XRYtZaXNQ"
   },
   "outputs": [],
   "source": [
    "!pip install selenium\n",
    "!apt-get update # to update ubuntu to correctly run apt install\n",
    "!apt install chromium-chromedriver\n",
    "!cp /usr/lib/chromium-browser/chromedriver /usr/bin\n",
    "import sys\n",
    "sys.path.insert(0,'/usr/lib/chromium-browser/chromedriver')\n",
    "from selenium import webdriver\n",
    "chrome_options = webdriver.ChromeOptions()\n",
    "chrome_options.add_argument('--headless')\n",
    "chrome_options.add_argument('--no-sandbox')\n",
    "chrome_options.add_argument('--disable-dev-shm-usage')\n",
    "\n"
   ]
  },
  {
   "cell_type": "code",
   "execution_count": null,
   "metadata": {
    "id": "ULwaUZbGaY1A"
   },
   "outputs": [],
   "source": [
    "from selenium import webdriver\n",
    "from selenium.webdriver.common.by import By\n",
    "from selenium.webdriver.support.ui import WebDriverWait\n",
    "from selenium.webdriver.support import expected_conditions as EC\n",
    "def fillInSBD(wd,SBD):\n",
    "  try:\n",
    "    search = WebDriverWait(wd, 10).until(\n",
    "        EC.presence_of_element_located((By.XPATH, \"\"\"//*[@id=\"keyword\"]\"\"\"))\n",
    "    )\n",
    "    search.send_keys(SBD)\n",
    "    search.send_keys(Keys.RETURN)\n",
    "  finally:\n",
    "    return None\n"
   ]
  },
  {
   "cell_type": "code",
   "execution_count": null,
   "metadata": {
    "id": "754MqJoraZ6M"
   },
   "outputs": [],
   "source": [
    "def clickSBD(wd):\n",
    "  print(\"in\")\n",
    "  try:\n",
    "    element = WebDriverWait(wd, 10).until(\n",
    "        EC.presence_of_element_located((By.XPATH, \"\"\"//*[@id=\"result\"]/div[2]/div[2]/div/div[2]/div[2]/div/table/tbody/tr/td[2]/a\"\"\"))\n",
    "    )\n",
    "\n",
    "    element.click()\n",
    "    print(\"click\")\n",
    "    \n",
    "    \n",
    "    table = WebDriverWait(wd, 10).until(\n",
    "        EC.presence_of_element_located((By.XPATH, \"\"\"/html/body/div[2]/div[3]/div[2]/div/div[2]\"\"\"))\n",
    "    )\n",
    "\n",
    "    return table.text\n",
    "  except:\n",
    "    print(\"fail\")\n",
    "    return None\n",
    "    "
   ]
  },
  {
   "cell_type": "code",
   "execution_count": null,
   "metadata": {
    "id": "4vcKJKoqabIX"
   },
   "outputs": [],
   "source": [
    "def tableReturn(wd):\n",
    "  table = WebDriverWait(wd, 10).until(\n",
    "        EC.presence_of_element_located((By.XPATH, \"\"\"/html/body/div[2]/div[3]/div[2]/div/div[2]\"\"\"))\n",
    "    )\n",
    "  return table.text"
   ]
  },
  {
   "cell_type": "code",
   "execution_count": null,
   "metadata": {
    "id": "8-o-Qi4macLZ"
   },
   "outputs": [],
   "source": [
    "def convertList(text):\n",
    "  crawledtextList = text.splitlines()\n",
    "  crawledtextList.remove('Môn thi Điểm')\n",
    "  return crawledtextList"
   ]
  },
  {
   "cell_type": "code",
   "execution_count": null,
   "metadata": {
    "id": "ulzWzhynadLR"
   },
   "outputs": [],
   "source": [
    "def convertDict(crawledtextList):\n",
    "  student = {\"Số báo danh\":None , \"Cụm thi\" : None,\"Toán\":None,\"Ngữ văn\":None,\"Ngoại ngữ\":None,\n",
    "           \"Lịch sử\":None,\"Địa lý\":None,\"Giáo dục công dân\":None,\"Vật lý\":None,\"Hóa học\":None,\"Sinh học\":None}\n",
    "\n",
    "  SBD = crawledtextList[0]\n",
    "  i = SBD.find(\":\")\n",
    "  SBD[i+1:len(SBD)].strip() \n",
    "  student[\"Số báo danh\"] = SBD[i+1:len(SBD)].strip() \n",
    "\n",
    "  Cumthi = crawledtextList[1]\n",
    "  i = Cumthi.find(\":\")\n",
    "  Cumthi[0:i]\n",
    "  Cumthi[i+1:len(Cumthi)]\n",
    "  student[\"Cụm thi\"] = Cumthi[i+1:len(Cumthi)]\n",
    "\n",
    "\n",
    "  for striptxt in crawledtextList[2:]:\n",
    "    # print(striptxt)\n",
    "    for i,char in enumerate(striptxt):\n",
    "      if char.isdigit():\n",
    "        # print(striptxt[0:i].rstrip(),striptxt[i:len(striptxt)])\n",
    "        student[striptxt[0:i].rstrip()] = striptxt[i:-1]\n",
    "        break\n",
    "  return student"
   ]
  },
  {
   "cell_type": "code",
   "execution_count": null,
   "metadata": {
    "id": "XNLk6ArYaeq0"
   },
   "outputs": [],
   "source": [
    "def saveJson(studentDict,sbd):\n",
    "  with open(\"/content/drive/My Drive/2020 Crawl/07/\"+str(sbd) +\".json\", 'w') as f:\n",
    "    json.dump(studentDict,f)"
   ]
  },
  {
   "cell_type": "code",
   "execution_count": null,
   "metadata": {
    "id": "Ca1Hr90KafkF"
   },
   "outputs": [],
   "source": [
    "from selenium.webdriver.common.keys import Keys\n",
    "wd = webdriver.Chrome('chromedriver',chrome_options=chrome_options)\n",
    "import json\n",
    "wd.get(\"https://diemthi.vnexpress.net/\")"
   ]
  },
  {
   "cell_type": "code",
   "execution_count": null,
   "metadata": {
    "id": "oHLCYWhqagt4"
   },
   "outputs": [],
   "source": [
    "formatId = \"ctnnnnnn\"\n",
    "cumthi = range(1,65)\n",
    "SBD = range(1,1000000)\n",
    "\n",
    "for i in cumthi:\n",
    "  \n",
    "  if i < 10:\n",
    "    CumthiId = formatId.replace(\"ct\",\"0\" + str(i))\n",
    "    \n",
    "  else:\n",
    "    CumthiId = formatId.replace(\"ct\",str(i))\n",
    "  count = 0  \n",
    "  for sbd in SBD:\n",
    "    add = 6 - len(str(sbd))\n",
    "    sbdstr = \"0\"*add + str(sbd)\n",
    "    id = CumthiId.replace(\"nnnnnn\",sbdstr)\n",
    "    # id = \"01000817\"\n",
    "    print(id)\n",
    "    fillInSBD(wd,id)\n",
    "    studentText = clickSBD(wd)\n",
    "\n",
    "    if studentText == None:\n",
    "      count +=1\n",
    "      if count == 1000:\n",
    "        break\n",
    "      else: \n",
    "        continue\n",
    "    \n",
    "    listText = convertList(studentText)\n",
    "    # print(listText)\n",
    "    dictText = convertDict(listText)\n",
    "    # print(dictText)\n",
    "    saveJson(dictText,id)\n",
    "    "
   ]
  },
  {
   "cell_type": "code",
   "execution_count": null,
   "metadata": {
    "colab": {
     "base_uri": "https://localhost:8080/"
    },
    "id": "gNa8Qh7jOCit",
    "outputId": "12c5c870-0d69-4cb6-c488-8009ea78e60d"
   },
   "outputs": [
    {
     "name": "stdout",
     "output_type": "stream",
     "text": [
      "Reinitialized existing Git repository in /content/.git/\n",
      "[master (root-commit) e296981] Colab Commit\n",
      " 20 files changed, 50785 insertions(+)\n",
      " create mode 100644 .config/.last_opt_in_prompt.yaml\n",
      " create mode 100644 .config/.last_survey_prompt.yaml\n",
      " create mode 100644 .config/.last_update_check.json\n",
      " create mode 100644 .config/.metricsUUID\n",
      " create mode 100644 .config/active_config\n",
      " create mode 100644 .config/config_sentinel\n",
      " create mode 100644 .config/configurations/config_default\n",
      " create mode 100644 .config/gce\n",
      " create mode 100644 .config/logs/2020.11.13/17.32.45.071309.log\n",
      " create mode 100644 .config/logs/2020.11.13/17.33.07.342211.log\n",
      " create mode 100644 .config/logs/2020.11.13/17.33.22.211003.log\n",
      " create mode 100644 .config/logs/2020.11.13/17.33.29.478721.log\n",
      " create mode 100644 .config/logs/2020.11.13/17.33.44.836274.log\n",
      " create mode 100644 .config/logs/2020.11.13/17.33.45.553060.log\n",
      " create mode 100755 sample_data/README.md\n",
      " create mode 100755 sample_data/anscombe.json\n",
      " create mode 100644 sample_data/california_housing_test.csv\n",
      " create mode 100644 sample_data/california_housing_train.csv\n",
      " create mode 100644 sample_data/mnist_test.csv\n",
      " create mode 100644 sample_data/mnist_train_small.csv\n"
     ]
    }
   ],
   "source": [
    "!git init\n",
    "!git add .\n",
    "!git commit -m \"Colab Commit\"\n"
   ]
  },
  {
   "cell_type": "code",
   "execution_count": null,
   "metadata": {
    "id": "n39DddDhOUut"
   },
   "outputs": [],
   "source": [
    "!git config --global user.email \"khoasimon99@gmail.com\"\n",
    "!git config --global user.name \"tlminhkhoa\"\n"
   ]
  },
  {
   "cell_type": "code",
   "execution_count": 2,
   "metadata": {
    "colab": {
     "base_uri": "https://localhost:8080/"
    },
    "id": "wQPvQ5b9W574",
    "outputId": "a1c4bea7-c1e0-4619-e3d7-b28148e4e512"
   },
   "outputs": [
    {
     "name": "stdout",
     "output_type": "stream",
     "text": [
      "fatal: not a git repository (or any of the parent directories): .git\n"
     ]
    }
   ],
   "source": [
    "!git push"
   ]
  },
  {
   "cell_type": "code",
   "execution_count": null,
   "metadata": {
    "id": "Ow-HmYaY74C3"
   },
   "outputs": [],
   "source": []
  }
 ],
 "metadata": {
  "colab": {
   "collapsed_sections": [],
   "name": "Selenium.ipynb",
   "provenance": []
  },
  "kernelspec": {
   "display_name": "Python 3",
   "language": "python",
   "name": "python3"
  },
  "language_info": {
   "codemirror_mode": {
    "name": "ipython",
    "version": 3
   },
   "file_extension": ".py",
   "mimetype": "text/x-python",
   "name": "python",
   "nbconvert_exporter": "python",
   "pygments_lexer": "ipython3",
   "version": "3.7.8"
  }
 },
 "nbformat": 4,
 "nbformat_minor": 1
}
