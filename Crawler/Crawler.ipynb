{
 "cells": [
  {
   "cell_type": "code",
   "execution_count": null,
   "metadata": {
    "colab": {
     "base_uri": "https://localhost:8080/"
    },
    "id": "FoNBImsATf2F",
    "outputId": "a65308ca-2bc8-400b-b5a1-d2a5ccc653ad"
   },
   "outputs": [
    {
     "name": "stdout",
     "output_type": "stream",
     "text": [
      "Mounted at /content/drive\n"
     ]
    }
   ],
   "source": [
    "from google.colab import drive\n",
    "drive.mount('/content/drive',force_remount = True)"
   ]
  },
  {
   "cell_type": "code",
   "execution_count": null,
   "metadata": {
    "id": "pM9IUCaDUXV3"
   },
   "outputs": [],
   "source": [
    "import requests \n",
    "import json \n",
    "from tqdm import tqdm\n",
    "from time import sleep"
   ]
  },
  {
   "cell_type": "code",
   "execution_count": null,
   "metadata": {
    "colab": {
     "background_save": true,
     "base_uri": "https://localhost:8080/"
    },
    "id": "ZHG5VNW2werB",
    "outputId": "2f94c60a-b0d1-4955-ee0d-1c2d2ecb631a"
   },
   "outputs": [
    {
     "name": "stderr",
     "output_type": "stream",
     "text": [
      "  1%|          | 10475/997995 [2:02:32<195:30:32,  1.40it/s]"
     ]
    }
   ],
   "source": [
    "formatId = \"ctnnnnnn\"\n",
    "cumthi = range(1,63)\n",
    "SBD = range(1,1000000)\n",
    "\n",
    "\n",
    "studentList = []\n",
    "count = 0 \n",
    "countsleep = 0\n",
    "for i in cumthi:\n",
    "  \n",
    "  if i < 10:\n",
    "    CumthiId = formatId.replace(\"ct\",\"0\" + str(i))\n",
    "    \n",
    "  else:\n",
    "    CumthiId = formatId.replace(\"ct\",str(i))\n",
    "\n",
    "    count = 0 \n",
    "  for sbd in tqdm(SBD,position=0, leave=True):\n",
    "    \n",
    "    add = 6 - len(str(sbd))\n",
    "    sbdstr = \"0\"*add + str(sbd)\n",
    "    id = CumthiId.replace(\"nnnnnn\",sbdstr)\n",
    "    studentDict = requests.get(\"https://dantri.com.vn/thpt/1/0/99/\" + id + \"/2020/0.2/search-gradle.htm\").json()\n",
    "\n",
    "\n",
    "\n",
    "    if studentDict[\"Student\"][\"SBD\"] == None:\n",
    "      count += 1\n",
    "      if count == 1000:\n",
    "        with open(\"/content/drive/My Drive/Crawler/52/\"+str(id) +\".json\", 'w') as f:\n",
    "          json.dump(studentList,f)\n",
    "        break\n",
    "      else: \n",
    "        continue\n",
    "    else:\n",
    "      count = 0\n",
    "      studentList.append(studentDict)\n",
    "\n",
    "    countsleep += 1\n",
    "    if countsleep == 1000:\n",
    "      with open(\"/content/drive/My Drive/Crawler/52/\"+str(id) +\".json\", 'w') as f:\n",
    "        json.dump(studentList,f)\n",
    "      \n",
    "      studentList = []\n",
    "      sleep(5)\n",
    "      countsleep = 0\n",
    "\n",
    "    "
   ]
  }
 ],
 "metadata": {
  "colab": {
   "collapsed_sections": [],
   "name": "Crawler.ipynb",
   "provenance": []
  },
  "kernelspec": {
   "display_name": "Python 3",
   "language": "python",
   "name": "python3"
  },
  "language_info": {
   "codemirror_mode": {
    "name": "ipython",
    "version": 3
   },
   "file_extension": ".py",
   "mimetype": "text/x-python",
   "name": "python",
   "nbconvert_exporter": "python",
   "pygments_lexer": "ipython3",
   "version": "3.7.8"
  }
 },
 "nbformat": 4,
 "nbformat_minor": 1
}
