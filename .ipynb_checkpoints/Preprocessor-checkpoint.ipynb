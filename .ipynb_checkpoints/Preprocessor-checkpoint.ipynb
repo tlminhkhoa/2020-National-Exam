{
 "cells": [
  {
   "cell_type": "code",
   "execution_count": 1,
   "metadata": {
    "colab": {
     "base_uri": "https://localhost:8080/"
    },
    "executionInfo": {
     "elapsed": 31939,
     "status": "ok",
     "timestamp": 1606218439054,
     "user": {
      "displayName": "Khoa Tran",
      "photoUrl": "",
      "userId": "02141908741661027640"
     },
     "user_tz": -420
    },
    "id": "rgWxeWkmzcNS",
    "outputId": "2b549895-c461-41a9-cb30-68d477cfe32e"
   },
   "outputs": [
    {
     "name": "stdout",
     "output_type": "stream",
     "text": [
      "Mounted at /content/drive\n"
     ]
    }
   ],
   "source": [
    "from google.colab import drive\n",
    "drive.mount('/content/drive')"
   ]
  },
  {
   "cell_type": "code",
   "execution_count": 3,
   "metadata": {
    "colab": {
     "base_uri": "https://localhost:8080/",
     "height": 48
    },
    "executionInfo": {
     "elapsed": 1174,
     "status": "ok",
     "timestamp": 1606218441872,
     "user": {
      "displayName": "Khoa Tran",
      "photoUrl": "",
      "userId": "02141908741661027640"
     },
     "user_tz": -420
    },
    "id": "L8o6um_O0nLK",
    "outputId": "adf01a4e-76cb-4fad-ce4e-6541551873e5"
   },
   "outputs": [
    {
     "data": {
      "text/html": [
       "<div>\n",
       "<style scoped>\n",
       "    .dataframe tbody tr th:only-of-type {\n",
       "        vertical-align: middle;\n",
       "    }\n",
       "\n",
       "    .dataframe tbody tr th {\n",
       "        vertical-align: top;\n",
       "    }\n",
       "\n",
       "    .dataframe thead th {\n",
       "        text-align: right;\n",
       "    }\n",
       "</style>\n",
       "<table border=\"1\" class=\"dataframe\">\n",
       "  <thead>\n",
       "    <tr style=\"text-align: right;\">\n",
       "      <th></th>\n",
       "      <th>SBD</th>\n",
       "      <th>Toan</th>\n",
       "      <th>Van</th>\n",
       "      <th>NgoaiNgu</th>\n",
       "      <th>VatLy</th>\n",
       "      <th>HoaHoc</th>\n",
       "      <th>SinhHoc</th>\n",
       "      <th>DiemTBTuNhien</th>\n",
       "      <th>LichSu</th>\n",
       "      <th>DiaLy</th>\n",
       "      <th>GDCD</th>\n",
       "      <th>DiemTBXaHoi</th>\n",
       "    </tr>\n",
       "  </thead>\n",
       "  <tbody>\n",
       "  </tbody>\n",
       "</table>\n",
       "</div>"
      ],
      "text/plain": [
       "Empty DataFrame\n",
       "Columns: [SBD, Toan, Van, NgoaiNgu, VatLy, HoaHoc, SinhHoc, DiemTBTuNhien, LichSu, DiaLy, GDCD, DiemTBXaHoi]\n",
       "Index: []"
      ]
     },
     "execution_count": 3,
     "metadata": {
      "tags": []
     },
     "output_type": "execute_result"
    }
   ],
   "source": [
    "import pandas as pd\n",
    "def createDataFrame():\n",
    "  names = [\"SBD\",\"Toan\",\"Van\",\"NgoaiNgu\",\"VatLy\",\"HoaHoc\",\"SinhHoc\",\"DiemTBTuNhien\",\"LichSu\",\"DiaLy\",\"GDCD\",\"DiemTBXaHoi\"]\n",
    "  return pd.DataFrame(columns = names)\n",
    "createDataFrame()"
   ]
  },
  {
   "cell_type": "code",
   "execution_count": null,
   "metadata": {
    "colab": {
     "background_save": true,
     "base_uri": "https://localhost:8080/"
    },
    "id": "-uA5Sbj3ThH4"
   },
   "outputs": [
    {
     "name": "stdout",
     "output_type": "stream",
     "text": [
      "01\n",
      ".ipynb_checkpoints\n",
      "02\n",
      "03\n",
      "04\n",
      "05\n",
      "06\n",
      "07\n",
      "08\n",
      "09\n",
      "10\n",
      "11\n",
      "12\n",
      "13\n",
      "14\n",
      "15\n",
      "16\n",
      "17\n",
      "18\n",
      "19\n",
      "21\n",
      "22\n",
      "23\n",
      "24\n",
      "25\n",
      "26\n",
      "27\n",
      "28\n",
      "29\n",
      "30\n",
      "31\n",
      "32\n",
      "33\n",
      "34\n",
      "35\n",
      "36\n",
      "37\n",
      "38\n",
      "39\n",
      "40\n",
      "41\n",
      "42\n",
      "43\n",
      "44\n",
      "45\n",
      "46\n",
      "47\n",
      "48\n",
      "49\n",
      "50\n",
      "51\n",
      "52\n",
      "53\n",
      "54\n",
      "55\n",
      "56\n",
      "57\n",
      "58\n",
      "59\n",
      "60\n",
      "61\n",
      "62\n",
      "63\n",
      "64\n",
      "65\n",
      "csv\n"
     ]
    }
   ],
   "source": [
    "path = \"/content/drive/MyDrive/Crawler/\"\n",
    "import tqdm\n",
    "import os\n",
    "import json\n",
    "for subfolder in os.listdir(path):\n",
    "  df = createDataFrame()\n",
    "  for filename in (os.listdir(path + subfolder)):\n",
    "      if filename.endswith(\".json\"):\n",
    "        f = open(os.path.join(path,subfolder ,filename), \"r\") \n",
    "        data = json.load(f)\n",
    "        f.close()\n",
    "        for stundentdict in data: \n",
    "          df = df.append(stundentdict[\"Student\"],ignore_index=True)\n",
    "      else:\n",
    "        continue\n",
    "  df.to_csv(\"/content/drive/MyDrive/Crawler/csv/{}\".format(subfolder + \".csv\") )\n",
    "\n",
    "    "
   ]
  },
  {
   "cell_type": "code",
   "execution_count": null,
   "metadata": {
    "id": "rQj2n3sd2BI4"
   },
   "outputs": [],
   "source": [
    "path = \"/content/drive/MyDrive/Crawler/61\"\n",
    "import os\n",
    "import json\n",
    "for filename in os.listdir(path):\n",
    "    if filename.endswith(\".json\"):\n",
    "      f = open (os.path.join(path, filename), \"r\") \n",
    "      data = json.load(f)\n",
    "      f.close()\n",
    "      for stundentdict in data:\n",
    "          df = df.append(stundentdict[\"Student\"],ignore_index=True)\n",
    "\n",
    "    else:\n",
    "        continue"
   ]
  },
  {
   "cell_type": "code",
   "execution_count": null,
   "metadata": {
    "colab": {
     "base_uri": "https://localhost:8080/",
     "height": 79
    },
    "executionInfo": {
     "elapsed": 1356,
     "status": "ok",
     "timestamp": 1606139888540,
     "user": {
      "displayName": "Khoa Tran",
      "photoUrl": "",
      "userId": "02141908741661027640"
     },
     "user_tz": -420
    },
    "id": "U-8s-hoc25F-",
    "outputId": "3838eceb-cba7-4ed3-fb1b-bf671369b4de"
   },
   "outputs": [
    {
     "data": {
      "text/html": [
       "<div>\n",
       "<style scoped>\n",
       "    .dataframe tbody tr th:only-of-type {\n",
       "        vertical-align: middle;\n",
       "    }\n",
       "\n",
       "    .dataframe tbody tr th {\n",
       "        vertical-align: top;\n",
       "    }\n",
       "\n",
       "    .dataframe thead th {\n",
       "        text-align: right;\n",
       "    }\n",
       "</style>\n",
       "<table border=\"1\" class=\"dataframe\">\n",
       "  <thead>\n",
       "    <tr style=\"text-align: right;\">\n",
       "      <th></th>\n",
       "      <th>SBD</th>\n",
       "      <th>Toan</th>\n",
       "      <th>Van</th>\n",
       "      <th>NgoaiNgu</th>\n",
       "      <th>VatLy</th>\n",
       "      <th>HoaHoc</th>\n",
       "      <th>SinhHoc</th>\n",
       "      <th>DiemTBTuNhien</th>\n",
       "      <th>LichSu</th>\n",
       "      <th>DiaLy</th>\n",
       "      <th>GDCD</th>\n",
       "      <th>DiemTBXaHoi</th>\n",
       "    </tr>\n",
       "  </thead>\n",
       "  <tbody>\n",
       "    <tr>\n",
       "      <th>0</th>\n",
       "      <td>01078364</td>\n",
       "      <td>7.60</td>\n",
       "      <td>9.00</td>\n",
       "      <td>4.80</td>\n",
       "      <td>None</td>\n",
       "      <td>None</td>\n",
       "      <td>None</td>\n",
       "      <td>None</td>\n",
       "      <td>6.25</td>\n",
       "      <td>7.50</td>\n",
       "      <td>8.00</td>\n",
       "      <td>7.25</td>\n",
       "    </tr>\n",
       "  </tbody>\n",
       "</table>\n",
       "</div>"
      ],
      "text/plain": [
       "        SBD  Toan   Van NgoaiNgu  ... LichSu DiaLy  GDCD DiemTBXaHoi\n",
       "0  01078364  7.60  9.00     4.80  ...   6.25  7.50  8.00        7.25\n",
       "\n",
       "[1 rows x 12 columns]"
      ]
     },
     "execution_count": 8,
     "metadata": {
      "tags": []
     },
     "output_type": "execute_result"
    }
   ],
   "source": [
    "df"
   ]
  },
  {
   "cell_type": "code",
   "execution_count": null,
   "metadata": {
    "colab": {
     "base_uri": "https://localhost:8080/",
     "height": 110
    },
    "executionInfo": {
     "elapsed": 817,
     "status": "ok",
     "timestamp": 1605799005397,
     "user": {
      "displayName": "Khoa Tran",
      "photoUrl": "",
      "userId": "02141908741661027640"
     },
     "user_tz": -420
    },
    "id": "TIiq-ycA2MlC",
    "outputId": "84c9a019-5cb7-42a1-e9ac-a58fca1f078d"
   },
   "outputs": [
    {
     "data": {
      "text/html": [
       "<div>\n",
       "<style scoped>\n",
       "    .dataframe tbody tr th:only-of-type {\n",
       "        vertical-align: middle;\n",
       "    }\n",
       "\n",
       "    .dataframe tbody tr th {\n",
       "        vertical-align: top;\n",
       "    }\n",
       "\n",
       "    .dataframe thead th {\n",
       "        text-align: right;\n",
       "    }\n",
       "</style>\n",
       "<table border=\"1\" class=\"dataframe\">\n",
       "  <thead>\n",
       "    <tr style=\"text-align: right;\">\n",
       "      <th></th>\n",
       "      <th>SBD</th>\n",
       "      <th>Toan</th>\n",
       "      <th>Van</th>\n",
       "      <th>NgoaiNgu</th>\n",
       "      <th>VatLy</th>\n",
       "      <th>HoaHoc</th>\n",
       "      <th>SinhHoc</th>\n",
       "      <th>DiemTBTuNhien</th>\n",
       "      <th>LichSu</th>\n",
       "      <th>DiaLy</th>\n",
       "      <th>GDCD</th>\n",
       "      <th>DiemTBXaHoi</th>\n",
       "    </tr>\n",
       "  </thead>\n",
       "  <tbody>\n",
       "    <tr>\n",
       "      <th>0</th>\n",
       "      <td>NaN</td>\n",
       "      <td>NaN</td>\n",
       "      <td>NaN</td>\n",
       "      <td>NaN</td>\n",
       "      <td>NaN</td>\n",
       "      <td>NaN</td>\n",
       "      <td>NaN</td>\n",
       "      <td>NaN</td>\n",
       "      <td>NaN</td>\n",
       "      <td>NaN</td>\n",
       "      <td>NaN</td>\n",
       "      <td>NaN</td>\n",
       "    </tr>\n",
       "    <tr>\n",
       "      <th>1</th>\n",
       "      <td>01000003</td>\n",
       "      <td>8.80</td>\n",
       "      <td>6.50</td>\n",
       "      <td>6.00</td>\n",
       "      <td>8.25</td>\n",
       "      <td>8.75</td>\n",
       "      <td>4.75</td>\n",
       "      <td>7.25</td>\n",
       "      <td>None</td>\n",
       "      <td>None</td>\n",
       "      <td>None</td>\n",
       "      <td>None</td>\n",
       "    </tr>\n",
       "  </tbody>\n",
       "</table>\n",
       "</div>"
      ],
      "text/plain": [
       "        SBD  Toan   Van NgoaiNgu  ... LichSu DiaLy  GDCD DiemTBXaHoi\n",
       "0       NaN   NaN   NaN      NaN  ...    NaN   NaN   NaN         NaN\n",
       "1  01000003  8.80  6.50     6.00  ...   None  None  None        None\n",
       "\n",
       "[2 rows x 12 columns]"
      ]
     },
     "execution_count": 75,
     "metadata": {
      "tags": []
     },
     "output_type": "execute_result"
    }
   ],
   "source": [
    "df.append(data[2][\"Student\"],ignore_index=True)"
   ]
  },
  {
   "cell_type": "code",
   "execution_count": null,
   "metadata": {
    "colab": {
     "base_uri": "https://localhost:8080/",
     "height": 79
    },
    "executionInfo": {
     "elapsed": 755,
     "status": "ok",
     "timestamp": 1605799019055,
     "user": {
      "displayName": "Khoa Tran",
      "photoUrl": "",
      "userId": "02141908741661027640"
     },
     "user_tz": -420
    },
    "id": "DK7-jToq2YLL",
    "outputId": "3fb58c9d-24a7-481a-b7d2-6704d086cb80"
   },
   "outputs": [
    {
     "data": {
      "text/html": [
       "<div>\n",
       "<style scoped>\n",
       "    .dataframe tbody tr th:only-of-type {\n",
       "        vertical-align: middle;\n",
       "    }\n",
       "\n",
       "    .dataframe tbody tr th {\n",
       "        vertical-align: top;\n",
       "    }\n",
       "\n",
       "    .dataframe thead th {\n",
       "        text-align: right;\n",
       "    }\n",
       "</style>\n",
       "<table border=\"1\" class=\"dataframe\">\n",
       "  <thead>\n",
       "    <tr style=\"text-align: right;\">\n",
       "      <th></th>\n",
       "      <th>SBD</th>\n",
       "      <th>Toan</th>\n",
       "      <th>Van</th>\n",
       "      <th>NgoaiNgu</th>\n",
       "      <th>VatLy</th>\n",
       "      <th>HoaHoc</th>\n",
       "      <th>SinhHoc</th>\n",
       "      <th>DiemTBTuNhien</th>\n",
       "      <th>LichSu</th>\n",
       "      <th>DiaLy</th>\n",
       "      <th>GDCD</th>\n",
       "      <th>DiemTBXaHoi</th>\n",
       "    </tr>\n",
       "  </thead>\n",
       "  <tbody>\n",
       "    <tr>\n",
       "      <th>SBD</th>\n",
       "      <td>NaN</td>\n",
       "      <td>NaN</td>\n",
       "      <td>NaN</td>\n",
       "      <td>NaN</td>\n",
       "      <td>NaN</td>\n",
       "      <td>NaN</td>\n",
       "      <td>NaN</td>\n",
       "      <td>NaN</td>\n",
       "      <td>NaN</td>\n",
       "      <td>NaN</td>\n",
       "      <td>NaN</td>\n",
       "      <td>NaN</td>\n",
       "    </tr>\n",
       "  </tbody>\n",
       "</table>\n",
       "</div>"
      ],
      "text/plain": [
       "     SBD Toan  Van NgoaiNgu VatLy  ... DiemTBTuNhien LichSu DiaLy GDCD DiemTBXaHoi\n",
       "SBD  NaN  NaN  NaN      NaN   NaN  ...           NaN    NaN   NaN  NaN         NaN\n",
       "\n",
       "[1 rows x 12 columns]"
      ]
     },
     "execution_count": 76,
     "metadata": {
      "tags": []
     },
     "output_type": "execute_result"
    }
   ],
   "source": [
    "df"
   ]
  },
  {
   "cell_type": "code",
   "execution_count": null,
   "metadata": {
    "id": "qZD6Sm2M4QrW"
   },
   "outputs": [],
   "source": []
  }
 ],
 "metadata": {
  "colab": {
   "authorship_tag": "ABX9TyNvsyABA77BpidsxgPvW+d6",
   "collapsed_sections": [],
   "name": "Preprocessor.ipynb",
   "version": ""
  },
  "kernelspec": {
   "display_name": "Python 3",
   "language": "python",
   "name": "python3"
  },
  "language_info": {
   "codemirror_mode": {
    "name": "ipython",
    "version": 3
   },
   "file_extension": ".py",
   "mimetype": "text/x-python",
   "name": "python",
   "nbconvert_exporter": "python",
   "pygments_lexer": "ipython3",
   "version": "3.7.8"
  }
 },
 "nbformat": 4,
 "nbformat_minor": 1
}
